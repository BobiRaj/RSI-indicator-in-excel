{
 "cells": [
  {
   "cell_type": "code",
   "execution_count": 1,
   "id": "29a2451c",
   "metadata": {},
   "outputs": [],
   "source": [
    "import numpy as np\n",
    "import pandas as pd\n",
    "import requests, time\n",
    "from bs4 import BeautifulSoup\n",
    "import matplotlib.pyplot as plt\n",
    "from datetime import datetime\n",
    "import xlwings as xw\n",
    "from datetime import timedelta\n",
    "from requests.exceptions import ConnectionError"
   ]
  },
  {
   "cell_type": "code",
   "execution_count": 2,
   "id": "d706984d",
   "metadata": {},
   "outputs": [],
   "source": [
    "def datetitomestamp(date):\n",
    "    time_tuple = date.timetuple()\n",
    "    timestamp = round(time.mktime(time_tuple))\n",
    "    return timestamp\n",
    "def timestamptodate(timestamp):\n",
    "    return datetime.fromtimestamp(timestamp)"
   ]
  },
  {
   "cell_type": "code",
   "execution_count": 3,
   "id": "36e30d91",
   "metadata": {},
   "outputs": [],
   "source": [
    "# while True:\n",
    "#     try:       \n",
    "start = datetitomestamp(datetime(2022, 11, 25))\n",
    "end = datetitomestamp(datetime.today())\n",
    "url_5mint = ('https://priceapi.moneycontrol.com/techCharts/history?symbol=9&resolution=5&from='+str(start)+'&to='+str(end)+'')\n",
    "url_15mint = ('https://priceapi.moneycontrol.com/techCharts/history?symbol=9&resolution=15&from='+str(start)+'&to='+str(end)+'')\n",
    "url_60mint = ('https://priceapi.moneycontrol.com/techCharts/history?symbol=9&resolution=60&from='+str(start)+'&to='+str(end)+'')\n",
    "resp5mint = requests.get(url_5mint).json()\n",
    "resp15mint = requests.get(url_15mint).json()\n",
    "data5mint = pd.DataFrame(resp5mint)\n",
    "data15mint = pd.DataFrame(resp15mint)\n",
    "resp60mint = requests.get(url_60mint).json()\n",
    "data60mint = pd.DataFrame(resp60mint)\n",
    "#         print(url_60mint)\n",
    "date5mint, date15mint, date60mint = [], [], []\n",
    "for dt5mint in data5mint['t']:\n",
    "    date5mint.append({'Date':timestamptodate(dt5mint)})\n",
    "    dt5mint = pd.DataFrame(date5mint)\n",
    "#         print('5mint',dt5mint)\n",
    "for dt15mint in data15mint['t']:\n",
    "    date15mint.append({'Date':timestamptodate(dt15mint)})\n",
    "    dt15mint = pd.DataFrame(date15mint)\n",
    "for dt60mint in data60mint['t']:\n",
    "    date60mint.append({'Date':timestamptodate(dt60mint)})\n",
    "    dt60mint = pd.DataFrame(date60mint)\n",
    "#         print('60mint',dt60mint)\n",
    "intraday_data5mint = pd.concat([dt5mint, data5mint['o'],data5mint['h'],data5mint['l'],data5mint['c']], axis = 1).rename(columns={'o':'open','h':'high','l':'low','c':'close','v':'volume'})\n",
    "close5mint = pd.DataFrame(intraday_data5mint, columns=['Date','close'])\n",
    "last_50row5mint = close5mint.tail(100)\n",
    "\n",
    "intraday_data15mint = pd.concat([dt15mint, data15mint['o'],data15mint['h'],data15mint['l'],data15mint['c']], axis = 1).rename(columns={'o':'open','h':'high','l':'low','c':'close','v':'volume'})\n",
    "close15mint = pd.DataFrame(intraday_data15mint, columns=['Date','close'])\n",
    "last_50row15mint = close15mint.tail(100)\n",
    "#         print(last_50row5mint, last_50row15mint)\n",
    "\n",
    "intraday_data60mint = pd.concat([dt60mint, data60mint['o'],data60mint['h'],data60mint['l'],data60mint['c']], axis = 1).rename(columns={'o':'open','h':'high','l':'low','c':'close','v':'volume'})\n",
    "close60mint = pd.DataFrame(intraday_data60mint, columns=['Date','close'])\n",
    "last_50row60mint = close60mint.tail(100)\n",
    "#         print(last_50row60mint)\n",
    "\n",
    "wb = xw.Book('E:\\Project practice\\option Chain.xlsm')\n",
    "dt = wb.sheets('IntradayData')\n",
    "dt.range('A2').value = last_50row5mint\n",
    "dt.range('M2').value = last_50row15mint\n",
    "dt.range('X2').value = last_50row60mint\n",
    "#         dt.range('A110').value = intraday_data5mint.tail(100)\n",
    "#         dt.range('I110').value = intraday_data15mint.tail(100)\n",
    "#         dt.range('Q110').value = intraday_data60mint.tail(100)\n",
    "#         time.sleep(1)\n",
    "#     except Exception as e:\n",
    "#         print(e)"
   ]
  },
  {
   "cell_type": "code",
   "execution_count": 4,
   "id": "a62a8f8a",
   "metadata": {},
   "outputs": [
    {
     "data": {
      "text/plain": [
       "''"
      ]
     },
     "execution_count": 4,
     "metadata": {},
     "output_type": "execute_result"
    }
   ],
   "source": [
    "'https://priceapi.moneycontrol.com/techCharts/history?symbol=23&resolution=60&from=1670132800&to=1670564800'\n",
    "''"
   ]
  }
 ],
 "metadata": {
  "kernelspec": {
   "display_name": "Python 3 (ipykernel)",
   "language": "python",
   "name": "python3"
  },
  "language_info": {
   "codemirror_mode": {
    "name": "ipython",
    "version": 3
   },
   "file_extension": ".py",
   "mimetype": "text/x-python",
   "name": "python",
   "nbconvert_exporter": "python",
   "pygments_lexer": "ipython3",
   "version": "3.9.12"
  },
  "widgets": {
   "application/vnd.jupyter.widget-state+json": {
    "state": {},
    "version_major": 2,
    "version_minor": 0
   }
  }
 },
 "nbformat": 4,
 "nbformat_minor": 5
}
